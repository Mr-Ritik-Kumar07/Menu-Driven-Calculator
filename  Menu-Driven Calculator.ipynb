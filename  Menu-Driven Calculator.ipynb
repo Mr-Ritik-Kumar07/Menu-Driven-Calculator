{
 "cells": [
  {
   "cell_type": "markdown",
   "id": "a18728c7-cdc3-4646-8f56-75156fa9fc25",
   "metadata": {},
   "source": [
    "# 1. Calculator App\n",
    "\n",
    "Description:\n",
    "A basic calculator that performs addition, subtraction, multiplication, and division.\n",
    "\n",
    "Concepts Used:\n",
    "Functions, conditionals, loops, user input."
   ]
  },
  {
   "cell_type": "code",
   "execution_count": null,
   "id": "ac6ddfee-0ea8-4c32-b5b0-c5907b4e7795",
   "metadata": {},
   "outputs": [
    {
     "name": "stdout",
     "output_type": "stream",
     "text": [
      "Simple Calculator\n"
     ]
    },
    {
     "name": "stdin",
     "output_type": "stream",
     "text": [
      "Enter the first number:  12\n",
      "Enter operator (+, -, *, /):  +\n",
      "Enter the second number:  6\n"
     ]
    },
    {
     "name": "stdout",
     "output_type": "stream",
     "text": [
      "Result: 18.0\n"
     ]
    }
   ],
   "source": [
    "class Calculator:\n",
    "    def __init__(self):\n",
    "        print(\"Simple Calculator\")\n",
    "\n",
    "    def calculate(self):\n",
    "        while True:\n",
    "            try:\n",
    "                number_1 = float(input(\"Enter the first number: \"))\n",
    "                operator = input(\"Enter operator (+, -, *, /): \")\n",
    "                number_2 = float(input(\"Enter the second number: \"))\n",
    "\n",
    "                if operator == '+':\n",
    "                    result = number_1 + number_2\n",
    "                elif operator == '-':\n",
    "                    result = number_1 - number_2\n",
    "                elif operator == '*':\n",
    "                    result = number_1 * number_2\n",
    "                elif operator == '/':\n",
    "                    if number_2 == 0:\n",
    "                        raise ZeroDivisionError(\"Cannot divide by zero.\")\n",
    "                    result = number_1 / number_2\n",
    "                else:\n",
    "                    raise ValueError(\"Invalid operator. Please use +, -, *, or /.\")\n",
    "\n",
    "                print(\"Result:\", result)\n",
    "\n",
    "            except ValueError as ve:\n",
    "                print(\"Value Error:\", ve)\n",
    "            except ZeroDivisionError as zde:\n",
    "                print(\"Math Error:\", zde)\n",
    "            except Exception as e:\n",
    "                print(\"Unexpected Error:\", e)\n",
    "\n",
    "            again = input(\"Do you want to calculate again? (y/n): \")\n",
    "            if again.lower() != 'y':\n",
    "                print(\"Thank you for using the calculator.\")\n",
    "                break\n",
    "\n",
    "\n",
    "calc = Calculator()\n",
    "calc.calculate()"
   ]
  },
  {
   "cell_type": "code",
   "execution_count": null,
   "id": "75144bab-e9e9-4b1a-9f5f-d81403a5bede",
   "metadata": {},
   "outputs": [],
   "source": []
  }
 ],
 "metadata": {
  "kernelspec": {
   "display_name": "Python 3 (ipykernel)",
   "language": "python",
   "name": "python3"
  },
  "language_info": {
   "codemirror_mode": {
    "name": "ipython",
    "version": 3
   },
   "file_extension": ".py",
   "mimetype": "text/x-python",
   "name": "python",
   "nbconvert_exporter": "python",
   "pygments_lexer": "ipython3",
   "version": "3.13.5"
  }
 },
 "nbformat": 4,
 "nbformat_minor": 5
}
